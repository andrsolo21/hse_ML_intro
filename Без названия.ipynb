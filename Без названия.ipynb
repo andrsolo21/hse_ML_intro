{
 "cells": [
  {
   "cell_type": "code",
   "execution_count": 1,
   "metadata": {},
   "outputs": [],
   "source": [
    "import numpy as np\n",
    "import pandas as pd\n",
    "from datetime import datetime, timedelta\n",
    "import matplotlib.pyplot as plt"
   ]
  },
  {
   "cell_type": "markdown",
   "metadata": {},
   "source": [
    "# Read data"
   ]
  },
  {
   "cell_type": "code",
   "execution_count": 2,
   "metadata": {},
   "outputs": [],
   "source": [
    "columns = [\"date\", \"time\", \"open\",\"max\",\"min\", \"close\", \"volume\"]\n",
    "df = pd.read_csv(\"data/EURUSD_30_2020-10-01_2020-10-31.csv\", names = columns)\n",
    "\n",
    "df[\"average\"] = (df[\"max\"] + df[\"min\"]) / 2\n",
    "df[\"datetime\"] = df[\"date\"] + \"@\" +  df[\"time\"]\n",
    "df[\"datetime\"] = df[\"datetime\"].apply(lambda x: datetime.strptime(x,\"%Y.%m.%d@%H:%M\"))"
   ]
  },
  {
   "cell_type": "code",
   "execution_count": 119,
   "metadata": {},
   "outputs": [
    {
     "name": "stdout",
     "output_type": "stream",
     "text": [
      "<class 'pandas.core.frame.DataFrame'>\n",
      "RangeIndex: 1018 entries, 0 to 1017\n",
      "Data columns (total 9 columns):\n",
      " #   Column    Non-Null Count  Dtype         \n",
      "---  ------    --------------  -----         \n",
      " 0   date      1018 non-null   object        \n",
      " 1   time      1018 non-null   object        \n",
      " 2   open      1018 non-null   float64       \n",
      " 3   max       1018 non-null   float64       \n",
      " 4   min       1018 non-null   float64       \n",
      " 5   close     1018 non-null   float64       \n",
      " 6   volume    1018 non-null   int64         \n",
      " 7   average   1018 non-null   float64       \n",
      " 8   datetime  1018 non-null   datetime64[ns]\n",
      "dtypes: datetime64[ns](1), float64(5), int64(1), object(2)\n",
      "memory usage: 63.7+ KB\n",
      "None\n"
     ]
    },
    {
     "data": {
      "text/html": [
       "<div>\n",
       "<style scoped>\n",
       "    .dataframe tbody tr th:only-of-type {\n",
       "        vertical-align: middle;\n",
       "    }\n",
       "\n",
       "    .dataframe tbody tr th {\n",
       "        vertical-align: top;\n",
       "    }\n",
       "\n",
       "    .dataframe thead th {\n",
       "        text-align: right;\n",
       "    }\n",
       "</style>\n",
       "<table border=\"1\" class=\"dataframe\">\n",
       "  <thead>\n",
       "    <tr style=\"text-align: right;\">\n",
       "      <th></th>\n",
       "      <th>date</th>\n",
       "      <th>time</th>\n",
       "      <th>open</th>\n",
       "      <th>max</th>\n",
       "      <th>min</th>\n",
       "      <th>close</th>\n",
       "      <th>volume</th>\n",
       "      <th>average</th>\n",
       "      <th>datetime</th>\n",
       "    </tr>\n",
       "  </thead>\n",
       "  <tbody>\n",
       "    <tr>\n",
       "      <th>0</th>\n",
       "      <td>2020.10.01</td>\n",
       "      <td>00:00</td>\n",
       "      <td>1.1721</td>\n",
       "      <td>1.1725</td>\n",
       "      <td>1.1720</td>\n",
       "      <td>1.1722</td>\n",
       "      <td>31</td>\n",
       "      <td>1.17225</td>\n",
       "      <td>2020-10-01 00:00:00</td>\n",
       "    </tr>\n",
       "    <tr>\n",
       "      <th>1</th>\n",
       "      <td>2020.10.01</td>\n",
       "      <td>00:30</td>\n",
       "      <td>1.1723</td>\n",
       "      <td>1.1726</td>\n",
       "      <td>1.1719</td>\n",
       "      <td>1.1723</td>\n",
       "      <td>44</td>\n",
       "      <td>1.17225</td>\n",
       "      <td>2020-10-01 00:30:00</td>\n",
       "    </tr>\n",
       "    <tr>\n",
       "      <th>2</th>\n",
       "      <td>2020.10.01</td>\n",
       "      <td>01:30</td>\n",
       "      <td>1.1730</td>\n",
       "      <td>1.1730</td>\n",
       "      <td>1.1728</td>\n",
       "      <td>1.1729</td>\n",
       "      <td>72</td>\n",
       "      <td>1.17290</td>\n",
       "      <td>2020-10-01 01:30:00</td>\n",
       "    </tr>\n",
       "    <tr>\n",
       "      <th>3</th>\n",
       "      <td>2020.10.01</td>\n",
       "      <td>02:00</td>\n",
       "      <td>1.1728</td>\n",
       "      <td>1.1731</td>\n",
       "      <td>1.1726</td>\n",
       "      <td>1.1729</td>\n",
       "      <td>80</td>\n",
       "      <td>1.17285</td>\n",
       "      <td>2020-10-01 02:00:00</td>\n",
       "    </tr>\n",
       "    <tr>\n",
       "      <th>4</th>\n",
       "      <td>2020.10.01</td>\n",
       "      <td>02:30</td>\n",
       "      <td>1.1728</td>\n",
       "      <td>1.1728</td>\n",
       "      <td>1.1722</td>\n",
       "      <td>1.1723</td>\n",
       "      <td>54</td>\n",
       "      <td>1.17250</td>\n",
       "      <td>2020-10-01 02:30:00</td>\n",
       "    </tr>\n",
       "  </tbody>\n",
       "</table>\n",
       "</div>"
      ],
      "text/plain": [
       "         date   time    open     max     min   close  volume  average  \\\n",
       "0  2020.10.01  00:00  1.1721  1.1725  1.1720  1.1722      31  1.17225   \n",
       "1  2020.10.01  00:30  1.1723  1.1726  1.1719  1.1723      44  1.17225   \n",
       "2  2020.10.01  01:30  1.1730  1.1730  1.1728  1.1729      72  1.17290   \n",
       "3  2020.10.01  02:00  1.1728  1.1731  1.1726  1.1729      80  1.17285   \n",
       "4  2020.10.01  02:30  1.1728  1.1728  1.1722  1.1723      54  1.17250   \n",
       "\n",
       "             datetime  \n",
       "0 2020-10-01 00:00:00  \n",
       "1 2020-10-01 00:30:00  \n",
       "2 2020-10-01 01:30:00  \n",
       "3 2020-10-01 02:00:00  \n",
       "4 2020-10-01 02:30:00  "
      ]
     },
     "execution_count": 119,
     "metadata": {},
     "output_type": "execute_result"
    }
   ],
   "source": [
    "print(df.info())\n",
    "df.head()"
   ]
  },
  {
   "cell_type": "markdown",
   "metadata": {},
   "source": [
    "# Calc mov average"
   ]
  },
  {
   "cell_type": "code",
   "execution_count": 205,
   "metadata": {},
   "outputs": [
    {
     "name": "stderr",
     "output_type": "stream",
     "text": [
      "c:\\users\\втб\\appdata\\local\\programs\\python\\python38-32\\lib\\site-packages\\pandas\\core\\indexing.py:670: SettingWithCopyWarning: \n",
      "A value is trying to be set on a copy of a slice from a DataFrame\n",
      "\n",
      "See the caveats in the documentation: https://pandas.pydata.org/pandas-docs/stable/user_guide/indexing.html#returning-a-view-versus-a-copy\n",
      "  iloc._setitem_with_indexer(indexer, value)\n"
     ]
    },
    {
     "name": "stdout",
     "output_type": "stream",
     "text": [
      "(0, 2)\n",
      "0 days 00:30:00\n"
     ]
    },
    {
     "data": {
      "text/html": [
       "<div>\n",
       "<style scoped>\n",
       "    .dataframe tbody tr th:only-of-type {\n",
       "        vertical-align: middle;\n",
       "    }\n",
       "\n",
       "    .dataframe tbody tr th {\n",
       "        vertical-align: top;\n",
       "    }\n",
       "\n",
       "    .dataframe thead th {\n",
       "        text-align: right;\n",
       "    }\n",
       "</style>\n",
       "<table border=\"1\" class=\"dataframe\">\n",
       "  <thead>\n",
       "    <tr style=\"text-align: right;\">\n",
       "      <th></th>\n",
       "      <th>datetime</th>\n",
       "      <th>movaverage</th>\n",
       "    </tr>\n",
       "  </thead>\n",
       "  <tbody>\n",
       "    <tr>\n",
       "      <th>0</th>\n",
       "      <td>2020-10-06 23:00:00</td>\n",
       "      <td>1.173700</td>\n",
       "    </tr>\n",
       "    <tr>\n",
       "      <th>1</th>\n",
       "      <td>2020-10-06 23:30:00</td>\n",
       "      <td>1.173741</td>\n",
       "    </tr>\n",
       "    <tr>\n",
       "      <th>2</th>\n",
       "      <td>2020-10-07 00:30:00</td>\n",
       "      <td>1.173784</td>\n",
       "    </tr>\n",
       "    <tr>\n",
       "      <th>3</th>\n",
       "      <td>2020-10-07 01:00:00</td>\n",
       "      <td>1.173824</td>\n",
       "    </tr>\n",
       "    <tr>\n",
       "      <th>4</th>\n",
       "      <td>2020-10-07 01:30:00</td>\n",
       "      <td>1.173863</td>\n",
       "    </tr>\n",
       "  </tbody>\n",
       "</table>\n",
       "</div>"
      ],
      "text/plain": [
       "             datetime  movaverage\n",
       "0 2020-10-06 23:00:00    1.173700\n",
       "1 2020-10-06 23:30:00    1.173741\n",
       "2 2020-10-07 00:30:00    1.173784\n",
       "3 2020-10-07 01:00:00    1.173824\n",
       "4 2020-10-07 01:30:00    1.173863"
      ]
     },
     "execution_count": 205,
     "metadata": {},
     "output_type": "execute_result"
    }
   ],
   "source": [
    "delta = df.iloc[4][\"datetime\"] - df.iloc[3][\"datetime\"]\n",
    "count = 286\n",
    "\n",
    "prdf = df[[\"datetime\"]].copy()\n",
    "prdf[\"datetime\"] = prdf[\"datetime\"] + 286 * delta\n",
    "prdf[\"movaverage\"] = 0\n",
    "# prdf[\"movaverage2\"] = 0\n",
    "for i in range(df.shape[0]):\n",
    "    prdf[\"movaverage\"].iloc[i]= df.iloc[i:143 + i][\"average\"].mean()\n",
    "# for i in range(df.shape[0]):\n",
    "#     prdf[\"movaverage2\"].iloc[i]= df.iloc[i + 150:286 + i][\"average\"].mean()\n",
    "print(prdf[prdf[\"movaverage\"] == 0].shape)\n",
    "print(delta)\n",
    "prdf.head()"
   ]
  },
  {
   "cell_type": "markdown",
   "metadata": {},
   "source": [
    "# Forecast"
   ]
  },
  {
   "cell_type": "code",
   "execution_count": 218,
   "metadata": {},
   "outputs": [
    {
     "ename": "ModuleNotFoundError",
     "evalue": "No module named 'fbprophet'",
     "output_type": "error",
     "traceback": [
      "\u001b[1;31m---------------------------------------------------------------------------\u001b[0m",
      "\u001b[1;31mModuleNotFoundError\u001b[0m                       Traceback (most recent call last)",
      "\u001b[1;32m<ipython-input-218-f503e9c6cf11>\u001b[0m in \u001b[0;36m<module>\u001b[1;34m\u001b[0m\n\u001b[1;32m----> 1\u001b[1;33m \u001b[1;32mfrom\u001b[0m \u001b[0mfbprophet\u001b[0m \u001b[1;32mimport\u001b[0m \u001b[0mProphet\u001b[0m\u001b[1;33m\u001b[0m\u001b[1;33m\u001b[0m\u001b[0m\n\u001b[0m",
      "\u001b[1;31mModuleNotFoundError\u001b[0m: No module named 'fbprophet'"
     ]
    }
   ],
   "source": [
    "from fbprophet import Prophet"
   ]
  },
  {
   "cell_type": "code",
   "execution_count": null,
   "metadata": {},
   "outputs": [],
   "source": []
  },
  {
   "cell_type": "code",
   "execution_count": 206,
   "metadata": {},
   "outputs": [],
   "source": [
    "# prdf[\"forecast2\"] = prdf[\"movaverage\"].mean()\n",
    "prdf[\"forecast\"] = df[\"average\"].mean()"
   ]
  },
  {
   "cell_type": "markdown",
   "metadata": {},
   "source": [
    "# Print graphs"
   ]
  },
  {
   "cell_type": "code",
   "execution_count": 210,
   "metadata": {},
   "outputs": [
    {
     "data": {
      "image/png": "[encoded data removed]",
      "text/plain": [
       "<Figure size 1152x576 with 1 Axes>"
      ]
     },
     "metadata": {
      "needs_background": "light"
     },
     "output_type": "display_data"
    }
   ],
   "source": [
    "\n",
    "plt.figure(figsize=(16,8))\n",
    "realx = np.arange(df.shape[0])\n",
    "plt.plot(realx,df[\"average\"], label = \"real\")\n",
    "\n",
    "movx = realx + 286\n",
    "plt.plot(movx,prdf[\"movaverage\"], label = \"movingAverage\")\n",
    "\n",
    "movx = realx + 286\n",
    "plt.plot(movx,prdf[\"forecast\"], label = \"1\")\n",
    "\n",
    "# movx = realx + 286\n",
    "# plt.plot(movx,prdf[\"movaverage2\"], label = \"2\")\n",
    "\n",
    "plt.legend()\n",
    "plt.show()"
   ]
  },
  {
   "cell_type": "markdown",
   "metadata": {},
   "source": [
    "# quality"
   ]
  },
  {
   "cell_type": "code",
   "execution_count": 211,
   "metadata": {},
   "outputs": [],
   "source": [
    "res = df.merge(prdf, on = \"datetime\", how = \"outer\", indicator = True)"
   ]
  },
  {
   "cell_type": "code",
   "execution_count": 212,
   "metadata": {},
   "outputs": [],
   "source": [
    "resB = res[res[\"_merge\"] == \"both\"]"
   ]
  },
  {
   "cell_type": "code",
   "execution_count": 213,
   "metadata": {},
   "outputs": [
    {
     "name": "stdout",
     "output_type": "stream",
     "text": [
      "moving average result:  0.19860035448967012\n",
      "forecast result:  0.16094699277977412\n"
     ]
    }
   ],
   "source": [
    "resMov = np.mean(np.abs(resB[\"average\"] - resB[\"movaverage\"])) * (timedelta(hours = 24) / delta) / resB[\"average\"].iloc[0]\n",
    "resFor = np.mean(np.abs(resB[\"average\"] - resB[\"forecast\"])) * (timedelta(hours = 24) / delta) / resB[\"average\"].iloc[0]\n",
    "print(\"moving average result: \", resMov)\n",
    "print(\"forecast result: \", resFor)"
   ]
  },
  {
   "cell_type": "code",
   "execution_count": 214,
   "metadata": {},
   "outputs": [
    {
     "data": {
      "text/plain": [
       "1.17465"
      ]
     },
     "execution_count": 214,
     "metadata": {},
     "output_type": "execute_result"
    }
   ],
   "source": [
    "resB[\"average\"].iloc[0]"
   ]
  },
  {
   "cell_type": "code",
   "execution_count": 215,
   "metadata": {},
   "outputs": [
    {
     "data": {
      "text/plain": [
       "48.0"
      ]
     },
     "execution_count": 215,
     "metadata": {},
     "output_type": "execute_result"
    }
   ],
   "source": [
    "(timedelta(hours = 24) / delta)"
   ]
  },
  {
   "cell_type": "code",
   "execution_count": 217,
   "metadata": {},
   "outputs": [],
   "source": [
    "# np.mean(np.abs(resB[\"average\"] - resB[\"movaverage2\"])) * (timedelta(hours = 24) / delta) / resB[\"average\"].iloc[0]"
   ]
  },
  {
   "cell_type": "code",
   "execution_count": null,
   "metadata": {},
   "outputs": [],
   "source": []
  },
  {
   "cell_type": "code",
   "execution_count": null,
   "metadata": {},
   "outputs": [],
   "source": []
  },
  {
   "cell_type": "code",
   "execution_count": null,
   "metadata": {},
   "outputs": [],
   "source": []
  }
 ],
 "metadata": {
  "kernelspec": {
   "display_name": "Python 3",
   "language": "python",
   "name": "python3"
  },
  "language_info": {
   "codemirror_mode": {
    "name": "ipython",
    "version": 3
   },
   "file_extension": ".py",
   "mimetype": "text/x-python",
   "name": "python",
   "nbconvert_exporter": "python",
   "pygments_lexer": "ipython3",
   "version": "3.8.5"
  }
 },
 "nbformat": 4,
 "nbformat_minor": 4
}
