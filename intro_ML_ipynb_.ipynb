{
  "nbformat": 4,
  "nbformat_minor": 0,
  "metadata": {
    "kernelspec": {
      "display_name": "Python 3",
      "language": "python",
      "name": "python3"
    },
    "language_info": {
      "codemirror_mode": {
        "name": "ipython",
        "version": 3
      },
      "file_extension": ".py",
      "mimetype": "text/x-python",
      "name": "python",
      "nbconvert_exporter": "python",
      "pygments_lexer": "ipython3",
      "version": "3.8.5"
    },
    "colab": {
      "name": "intro_ML.ipynb\"",
      "provenance": []
    }
  },
  "cells": [
    {
      "cell_type": "code",
      "metadata": {
        "id": "riRberVSMAWm"
      },
      "source": [
        "import numpy as np\n",
        "import pandas as pd\n",
        "from datetime import datetime, timedelta\n",
        "import matplotlib.pyplot as plt"
      ],
      "execution_count": 1,
      "outputs": []
    },
    {
      "cell_type": "markdown",
      "metadata": {
        "id": "0WoZ591gMAWm"
      },
      "source": [
        "# Read data"
      ]
    },
    {
      "cell_type": "code",
      "metadata": {
        "id": "o6C-OW46Ms7P",
        "colab": {
          "base_uri": "https://localhost:8080/"
        },
        "outputId": "17859d0f-24d0-400f-8554-12ae172fa507"
      },
      "source": [
        "!git clone https://github.com/andrsolo21/hse_ML_intro"
      ],
      "execution_count": 2,
      "outputs": [
        {
          "output_type": "stream",
          "text": [
            "Cloning into 'hse_ML_intro'...\n",
            "remote: Enumerating objects: 12, done.\u001b[K\n",
            "remote: Counting objects: 100% (12/12), done.\u001b[K\n",
            "remote: Compressing objects: 100% (10/10), done.\u001b[K\n",
            "remote: Total 12 (delta 2), reused 8 (delta 1), pack-reused 0\u001b[K\n",
            "Unpacking objects: 100% (12/12), done.\n"
          ],
          "name": "stdout"
        }
      ]
    },
    {
      "cell_type": "code",
      "metadata": {
        "id": "GLaOS6GxM1dR",
        "colab": {
          "base_uri": "https://localhost:8080/"
        },
        "outputId": "3aaedd71-e7d6-448c-8068-d632f8a284cd"
      },
      "source": [
        "!ls"
      ],
      "execution_count": 3,
      "outputs": [
        {
          "output_type": "stream",
          "text": [
            "hse_ML_intro  sample_data\n"
          ],
          "name": "stdout"
        }
      ]
    },
    {
      "cell_type": "code",
      "metadata": {
        "id": "aBCg2fHYMAWm"
      },
      "source": [
        "columns = [\"date\", \"time\", \"open\",\"max\",\"min\", \"close\", \"volume\"]\n",
        "df = pd.read_csv(\"hse_ML_intro/data/EURUSD_30_2020-10-01_2020-10-31.csv\", names = columns)\n",
        "\n",
        "df[\"average\"] = (df[\"max\"] + df[\"min\"]) / 2\n",
        "df[\"datetime\"] = df[\"date\"] + \"@\" +  df[\"time\"]\n",
        "df[\"datetime\"] = df[\"datetime\"].apply(lambda x: datetime.strptime(x,\"%Y.%m.%d@%H:%M\"))"
      ],
      "execution_count": 4,
      "outputs": []
    },
    {
      "cell_type": "code",
      "metadata": {
        "id": "G5XURIqsMAWn",
        "colab": {
          "base_uri": "https://localhost:8080/",
          "height": 497
        },
        "outputId": "a662b428-bca7-4415-efbd-f74f02ec764f"
      },
      "source": [
        "print(df.info())\n",
        "df.head()"
      ],
      "execution_count": 5,
      "outputs": [
        {
          "output_type": "stream",
          "text": [
            "<class 'pandas.core.frame.DataFrame'>\n",
            "RangeIndex: 1018 entries, 0 to 1017\n",
            "Data columns (total 9 columns):\n",
            " #   Column    Non-Null Count  Dtype         \n",
            "---  ------    --------------  -----         \n",
            " 0   date      1018 non-null   object        \n",
            " 1   time      1018 non-null   object        \n",
            " 2   open      1018 non-null   float64       \n",
            " 3   max       1018 non-null   float64       \n",
            " 4   min       1018 non-null   float64       \n",
            " 5   close     1018 non-null   float64       \n",
            " 6   volume    1018 non-null   int64         \n",
            " 7   average   1018 non-null   float64       \n",
            " 8   datetime  1018 non-null   datetime64[ns]\n",
            "dtypes: datetime64[ns](1), float64(5), int64(1), object(2)\n",
            "memory usage: 71.7+ KB\n",
            "None\n"
          ],
          "name": "stdout"
        },
        {
          "output_type": "execute_result",
          "data": {
            "text/html": [
              "<div>\n",
              "<style scoped>\n",
              "    .dataframe tbody tr th:only-of-type {\n",
              "        vertical-align: middle;\n",
              "    }\n",
              "\n",
              "    .dataframe tbody tr th {\n",
              "        vertical-align: top;\n",
              "    }\n",
              "\n",
              "    .dataframe thead th {\n",
              "        text-align: right;\n",
              "    }\n",
              "</style>\n",
              "<table border=\"1\" class=\"dataframe\">\n",
              "  <thead>\n",
              "    <tr style=\"text-align: right;\">\n",
              "      <th></th>\n",
              "      <th>date</th>\n",
              "      <th>time</th>\n",
              "      <th>open</th>\n",
              "      <th>max</th>\n",
              "      <th>min</th>\n",
              "      <th>close</th>\n",
              "      <th>volume</th>\n",
              "      <th>average</th>\n",
              "      <th>datetime</th>\n",
              "    </tr>\n",
              "  </thead>\n",
              "  <tbody>\n",
              "    <tr>\n",
              "      <th>0</th>\n",
              "      <td>2020.10.01</td>\n",
              "      <td>00:00</td>\n",
              "      <td>1.1721</td>\n",
              "      <td>1.1725</td>\n",
              "      <td>1.1720</td>\n",
              "      <td>1.1722</td>\n",
              "      <td>31</td>\n",
              "      <td>1.17225</td>\n",
              "      <td>2020-10-01 00:00:00</td>\n",
              "    </tr>\n",
              "    <tr>\n",
              "      <th>1</th>\n",
              "      <td>2020.10.01</td>\n",
              "      <td>00:30</td>\n",
              "      <td>1.1723</td>\n",
              "      <td>1.1726</td>\n",
              "      <td>1.1719</td>\n",
              "      <td>1.1723</td>\n",
              "      <td>44</td>\n",
              "      <td>1.17225</td>\n",
              "      <td>2020-10-01 00:30:00</td>\n",
              "    </tr>\n",
              "    <tr>\n",
              "      <th>2</th>\n",
              "      <td>2020.10.01</td>\n",
              "      <td>01:30</td>\n",
              "      <td>1.1730</td>\n",
              "      <td>1.1730</td>\n",
              "      <td>1.1728</td>\n",
              "      <td>1.1729</td>\n",
              "      <td>72</td>\n",
              "      <td>1.17290</td>\n",
              "      <td>2020-10-01 01:30:00</td>\n",
              "    </tr>\n",
              "    <tr>\n",
              "      <th>3</th>\n",
              "      <td>2020.10.01</td>\n",
              "      <td>02:00</td>\n",
              "      <td>1.1728</td>\n",
              "      <td>1.1731</td>\n",
              "      <td>1.1726</td>\n",
              "      <td>1.1729</td>\n",
              "      <td>80</td>\n",
              "      <td>1.17285</td>\n",
              "      <td>2020-10-01 02:00:00</td>\n",
              "    </tr>\n",
              "    <tr>\n",
              "      <th>4</th>\n",
              "      <td>2020.10.01</td>\n",
              "      <td>02:30</td>\n",
              "      <td>1.1728</td>\n",
              "      <td>1.1728</td>\n",
              "      <td>1.1722</td>\n",
              "      <td>1.1723</td>\n",
              "      <td>54</td>\n",
              "      <td>1.17250</td>\n",
              "      <td>2020-10-01 02:30:00</td>\n",
              "    </tr>\n",
              "  </tbody>\n",
              "</table>\n",
              "</div>"
            ],
            "text/plain": [
              "         date   time    open  ...  volume  average            datetime\n",
              "0  2020.10.01  00:00  1.1721  ...      31  1.17225 2020-10-01 00:00:00\n",
              "1  2020.10.01  00:30  1.1723  ...      44  1.17225 2020-10-01 00:30:00\n",
              "2  2020.10.01  01:30  1.1730  ...      72  1.17290 2020-10-01 01:30:00\n",
              "3  2020.10.01  02:00  1.1728  ...      80  1.17285 2020-10-01 02:00:00\n",
              "4  2020.10.01  02:30  1.1728  ...      54  1.17250 2020-10-01 02:30:00\n",
              "\n",
              "[5 rows x 9 columns]"
            ]
          },
          "metadata": {
            "tags": []
          },
          "execution_count": 5
        }
      ]
    },
    {
      "cell_type": "markdown",
      "metadata": {
        "id": "T1-qxUzTMAWn"
      },
      "source": [
        "# Calc mov average"
      ]
    },
    {
      "cell_type": "code",
      "metadata": {
        "id": "gV3MVnqsMAWn",
        "colab": {
          "base_uri": "https://localhost:8080/",
          "height": 323
        },
        "outputId": "aef80f53-82f4-4c3f-bd90-7373a9fdfe13"
      },
      "source": [
        "delta = df.iloc[4][\"datetime\"] - df.iloc[3][\"datetime\"]\n",
        "count = 286\n",
        "\n",
        "prdf = df[[\"datetime\"]].copy()\n",
        "prdf[\"datetime\"] = prdf[\"datetime\"] + 286 * delta\n",
        "prdf[\"movaverage\"] = 0\n",
        "for i in range(df.shape[0]):\n",
        "    prdf[\"movaverage\"].iloc[i]= df.iloc[i:143 + i][\"average\"].mean()\n",
        "print(prdf[prdf[\"movaverage\"] == 0].shape)\n",
        "print(delta)\n",
        "prdf.head()"
      ],
      "execution_count": 6,
      "outputs": [
        {
          "output_type": "stream",
          "text": [
            "/usr/local/lib/python3.6/dist-packages/pandas/core/indexing.py:670: SettingWithCopyWarning: \n",
            "A value is trying to be set on a copy of a slice from a DataFrame\n",
            "\n",
            "See the caveats in the documentation: https://pandas.pydata.org/pandas-docs/stable/user_guide/indexing.html#returning-a-view-versus-a-copy\n",
            "  iloc._setitem_with_indexer(indexer, value)\n"
          ],
          "name": "stderr"
        },
        {
          "output_type": "stream",
          "text": [
            "(0, 2)\n",
            "0 days 00:30:00\n"
          ],
          "name": "stdout"
        },
        {
          "output_type": "execute_result",
          "data": {
            "text/html": [
              "<div>\n",
              "<style scoped>\n",
              "    .dataframe tbody tr th:only-of-type {\n",
              "        vertical-align: middle;\n",
              "    }\n",
              "\n",
              "    .dataframe tbody tr th {\n",
              "        vertical-align: top;\n",
              "    }\n",
              "\n",
              "    .dataframe thead th {\n",
              "        text-align: right;\n",
              "    }\n",
              "</style>\n",
              "<table border=\"1\" class=\"dataframe\">\n",
              "  <thead>\n",
              "    <tr style=\"text-align: right;\">\n",
              "      <th></th>\n",
              "      <th>datetime</th>\n",
              "      <th>movaverage</th>\n",
              "    </tr>\n",
              "  </thead>\n",
              "  <tbody>\n",
              "    <tr>\n",
              "      <th>0</th>\n",
              "      <td>2020-10-06 23:00:00</td>\n",
              "      <td>1.173700</td>\n",
              "    </tr>\n",
              "    <tr>\n",
              "      <th>1</th>\n",
              "      <td>2020-10-06 23:30:00</td>\n",
              "      <td>1.173741</td>\n",
              "    </tr>\n",
              "    <tr>\n",
              "      <th>2</th>\n",
              "      <td>2020-10-07 00:30:00</td>\n",
              "      <td>1.173784</td>\n",
              "    </tr>\n",
              "    <tr>\n",
              "      <th>3</th>\n",
              "      <td>2020-10-07 01:00:00</td>\n",
              "      <td>1.173824</td>\n",
              "    </tr>\n",
              "    <tr>\n",
              "      <th>4</th>\n",
              "      <td>2020-10-07 01:30:00</td>\n",
              "      <td>1.173863</td>\n",
              "    </tr>\n",
              "  </tbody>\n",
              "</table>\n",
              "</div>"
            ],
            "text/plain": [
              "             datetime  movaverage\n",
              "0 2020-10-06 23:00:00    1.173700\n",
              "1 2020-10-06 23:30:00    1.173741\n",
              "2 2020-10-07 00:30:00    1.173784\n",
              "3 2020-10-07 01:00:00    1.173824\n",
              "4 2020-10-07 01:30:00    1.173863"
            ]
          },
          "metadata": {
            "tags": []
          },
          "execution_count": 6
        }
      ]
    },
    {
      "cell_type": "markdown",
      "metadata": {
        "id": "Ntjq8fqNMAWn"
      },
      "source": [
        "# Forecast"
      ]
    },
    {
      "cell_type": "code",
      "metadata": {
        "id": "QObXrePRMAWn"
      },
      "source": [
        "from fbprophet import Prophet"
      ],
      "execution_count": 7,
      "outputs": []
    },
    {
      "cell_type": "code",
      "metadata": {
        "id": "-osmKzSjNSN2"
      },
      "source": [
        "m = Prophet()"
      ],
      "execution_count": 8,
      "outputs": []
    },
    {
      "cell_type": "code",
      "metadata": {
        "id": "wL2i7IOVNSKm",
        "colab": {
          "base_uri": "https://localhost:8080/"
        },
        "outputId": "2e5e2d33-90ee-4d82-f450-faa877823128"
      },
      "source": [
        "data = pd.DataFrame()\n",
        "data['ds'] = df['datetime']\n",
        "data['y'] = df['average']\n",
        "m.fit(data)"
      ],
      "execution_count": 9,
      "outputs": [
        {
          "output_type": "stream",
          "text": [
            "INFO:fbprophet:Disabling yearly seasonality. Run prophet with yearly_seasonality=True to override this.\n"
          ],
          "name": "stderr"
        },
        {
          "output_type": "execute_result",
          "data": {
            "text/plain": [
              "<fbprophet.forecaster.Prophet at 0x7f74cfe5c550>"
            ]
          },
          "metadata": {
            "tags": []
          },
          "execution_count": 9
        }
      ]
    },
    {
      "cell_type": "code",
      "metadata": {
        "id": "8Gyt-mP2NSH0"
      },
      "source": [
        "future = pd.DataFrame()\n",
        "future['ds'] = prdf[\"datetime\"]\n",
        "forecast = m.predict(future)"
      ],
      "execution_count": 10,
      "outputs": []
    },
    {
      "cell_type": "code",
      "metadata": {
        "id": "tLJ0tYwrPpJD"
      },
      "source": [
        "prdf2 = prdf.merge(forecast[[\"ds\",\"yhat\"]], left_on = \"datetime\",right_on = \"ds\", how = \"left\")"
      ],
      "execution_count": 12,
      "outputs": []
    },
    {
      "cell_type": "markdown",
      "metadata": {
        "id": "NjzFZpMLMAWn"
      },
      "source": [
        "# Print graphs"
      ]
    },
    {
      "cell_type": "code",
      "metadata": {
        "id": "Mth8uY7hMAWn",
        "colab": {
          "base_uri": "https://localhost:8080/",
          "height": 483
        },
        "outputId": "c9e5301b-3e8a-48b9-f7f1-109d408940d9"
      },
      "source": [
        "\n",
        "plt.figure(figsize=(16,8))\n",
        "realx = np.arange(df.shape[0])\n",
        "plt.plot(realx,df[\"average\"], label = \"real\")\n",
        "\n",
        "movx = np.arange(prdf2.shape[0]) + 286\n",
        "plt.plot(movx,prdf2[\"movaverage\"], label = \"movingAverage\")\n",
        "\n",
        "plt.plot(movx,prdf2[\"yhat\"], label = \"forecast\")\n",
        "\n",
        "plt.legend()\n",
        "plt.show()"
      ],
      "execution_count": 13,
      "outputs": [
        {
          "output_type": "display_data",
          "data": {
            "image/png": "[encoded data removed]",
            "text/plain": [
              "<Figure size 1152x576 with 1 Axes>"
            ]
          },
          "metadata": {
            "tags": [],
            "needs_background": "light"
          }
        }
      ]
    },
    {
      "cell_type": "markdown",
      "metadata": {
        "id": "uoqTpdKGMAWn"
      },
      "source": [
        "# quality"
      ]
    },
    {
      "cell_type": "code",
      "metadata": {
        "id": "sDkk5UkSMAWo"
      },
      "source": [
        "res = df.merge(prdf2, on = \"datetime\", how = \"outer\", indicator = True)"
      ],
      "execution_count": 14,
      "outputs": []
    },
    {
      "cell_type": "code",
      "metadata": {
        "id": "Azm0xvM3MAWo"
      },
      "source": [
        "resB = res[res[\"_merge\"] == \"both\"]"
      ],
      "execution_count": 15,
      "outputs": []
    },
    {
      "cell_type": "code",
      "metadata": {
        "id": "TX1nwiRqMAWo",
        "colab": {
          "base_uri": "https://localhost:8080/"
        },
        "outputId": "038363f2-6634-488d-f655-eaf578942b15"
      },
      "source": [
        "resMov = np.mean(np.abs(resB[\"average\"] - resB[\"movaverage\"])) * (timedelta(hours = 24) / delta) / resB[\"average\"].iloc[0]\n",
        "resFor = np.mean(np.abs(resB[\"average\"] - resB[\"yhat\"])) * (timedelta(hours = 24) / delta) / resB[\"average\"].iloc[0]\n",
        "print(\"moving average result: \", resMov)\n",
        "print(\"forecast result: \", resFor)"
      ],
      "execution_count": 16,
      "outputs": [
        {
          "output_type": "stream",
          "text": [
            "moving average result:  0.19860035448966745\n",
            "forecast result:  0.04064732883456679\n"
          ],
          "name": "stdout"
        }
      ]
    },
    {
      "cell_type": "code",
      "metadata": {
        "id": "CMJmLMvbMAWo",
        "colab": {
          "base_uri": "https://localhost:8080/"
        },
        "outputId": "c2ecdc57-970a-459f-daf5-e6fa7e3c9139"
      },
      "source": [
        "resB[\"average\"].iloc[0]"
      ],
      "execution_count": 17,
      "outputs": [
        {
          "output_type": "execute_result",
          "data": {
            "text/plain": [
              "1.17465"
            ]
          },
          "metadata": {
            "tags": []
          },
          "execution_count": 17
        }
      ]
    },
    {
      "cell_type": "code",
      "metadata": {
        "id": "6lfDUKPnMAWo",
        "colab": {
          "base_uri": "https://localhost:8080/"
        },
        "outputId": "eca46b28-fc84-460f-eace-e76f072b7eb7"
      },
      "source": [
        "(timedelta(hours = 24) / delta)"
      ],
      "execution_count": 18,
      "outputs": [
        {
          "output_type": "execute_result",
          "data": {
            "text/plain": [
              "48.0"
            ]
          },
          "metadata": {
            "tags": []
          },
          "execution_count": 18
        }
      ]
    },
    {
      "cell_type": "code",
      "metadata": {
        "id": "fwGKtRyRMAWo"
      },
      "source": [
        ""
      ],
      "execution_count": 18,
      "outputs": []
    },
    {
      "cell_type": "code",
      "metadata": {
        "id": "BRsaXv3MMAWo"
      },
      "source": [
        ""
      ],
      "execution_count": 18,
      "outputs": []
    },
    {
      "cell_type": "code",
      "metadata": {
        "id": "WBKioKdOMAWo"
      },
      "source": [
        ""
      ],
      "execution_count": null,
      "outputs": []
    }
  ]
}